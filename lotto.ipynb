{
  "nbformat": 4,
  "nbformat_minor": 0,
  "metadata": {
    "colab": {
      "provenance": [],
      "authorship_tag": "ABX9TyNNjHGCwSb2ZKi+BmvJ4N3R",
      "include_colab_link": true
    },
    "kernelspec": {
      "name": "python3",
      "display_name": "Python 3"
    },
    "language_info": {
      "name": "python"
    }
  },
  "cells": [
    {
      "cell_type": "markdown",
      "metadata": {
        "id": "view-in-github",
        "colab_type": "text"
      },
      "source": [
        "<a href=\"https://colab.research.google.com/github/good-thinking/easy-coding2/blob/main/lotto.ipynb\" target=\"_parent\"><img src=\"https://colab.research.google.com/assets/colab-badge.svg\" alt=\"Open In Colab\"/></a>"
      ]
    },
    {
      "cell_type": "code",
      "execution_count": 3,
      "metadata": {
        "colab": {
          "base_uri": "https://localhost:8080/"
        },
        "id": "KQpzUeuibX_E",
        "outputId": "2d0906b1-305f-4896-847b-e49bd7ea6c86"
      },
      "outputs": [
        {
          "output_type": "stream",
          "name": "stdout",
          "text": [
            "[14, 21, 12, 43, 18, 1]\n",
            "오늘의 행운의 로또번호는 [1, 12, 14, 18, 21, 43]입니다\n"
          ]
        }
      ],
      "source": [
        "import random\n",
        "numbers = range(1,46)\n",
        "lotto = random. sample(numbers,6)\n",
        "print(lotto)\n",
        "print(f'오늘의 행운의 로또번호는 {sorted(lotto)}입니다')"
      ]
    },
    {
      "cell_type": "code",
      "source": [],
      "metadata": {
        "id": "EVkh_ltDcXZ-"
      },
      "execution_count": null,
      "outputs": []
    }
  ]
}