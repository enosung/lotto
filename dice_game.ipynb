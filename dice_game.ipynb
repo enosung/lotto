{
  "nbformat": 4,
  "nbformat_minor": 0,
  "metadata": {
    "colab": {
      "provenance": [],
      "authorship_tag": "ABX9TyN5ksFW7+ULWmSlYNfxiGsC",
      "include_colab_link": true
    },
    "kernelspec": {
      "name": "python3",
      "display_name": "Python 3"
    },
    "language_info": {
      "name": "python"
    }
  },
  "cells": [
    {
      "cell_type": "markdown",
      "metadata": {
        "id": "view-in-github",
        "colab_type": "text"
      },
      "source": [
        "<a href=\"https://colab.research.google.com/github/good-thinking/easy-coding2/blob/main/dice_game.ipynb\" target=\"_parent\"><img src=\"https://colab.research.google.com/assets/colab-badge.svg\" alt=\"Open In Colab\"/></a>"
      ]
    },
    {
      "cell_type": "code",
      "execution_count": null,
      "metadata": {
        "id": "HBE80AxHfUFl"
      },
      "outputs": [],
      "source": [
        "import random \n",
        "print(\"start dice game.\")\n",
        "\n",
        "dice_computer = random.randint(1,6)\n",
        "\n",
        "while True :\n",
        "    dice_person = int(input(\"the number you want to choose : \"))\n",
        "    if dice_person == dice_computer :\n",
        "        print(\"correct, answer is {}\".format(dice_computer)); break;\n",
        "    else :\n",
        "        print(\"you are wrong, try again.\") "
      ]
    }
  ]
}