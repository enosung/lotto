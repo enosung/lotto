{
  "nbformat": 4,
  "nbformat_minor": 0,
  "metadata": {
    "colab": {
      "provenance": [],
      "authorship_tag": "ABX9TyNwcMsjGaxsYqrx5QgqFd5T",
      "include_colab_link": true
    },
    "kernelspec": {
      "name": "python3",
      "display_name": "Python 3"
    },
    "language_info": {
      "name": "python"
    }
  },
  "cells": [
    {
      "cell_type": "markdown",
      "metadata": {
        "id": "view-in-github",
        "colab_type": "text"
      },
      "source": [
        "<a href=\"https://colab.research.google.com/github/good-thinking/easy-coding2/blob/main/arithmetic_oeprations.ipynb\" target=\"_parent\"><img src=\"https://colab.research.google.com/assets/colab-badge.svg\" alt=\"Open In Colab\"/></a>"
      ]
    },
    {
      "cell_type": "markdown",
      "source": [
        "#사칙연산 프로그램"
      ],
      "metadata": {
        "id": "v_7XjHATUE7S"
      }
    },
    {
      "cell_type": "code",
      "execution_count": 1,
      "metadata": {
        "colab": {
          "base_uri": "https://localhost:8080/"
        },
        "id": "eqKIoylBT_uK",
        "outputId": "4e4640c1-ff26-4035-99fe-dd64bff0d962"
      },
      "outputs": [
        {
          "output_type": "stream",
          "name": "stdout",
          "text": [
            "input the first number : 1\n",
            "input the second number : 2\n",
            "the numbers you input : ( 1 , 2 )\n",
            "1 + 2 = 3\n",
            "1 - 2 = -1\n",
            "1 x 2 = 2\n",
            "1 / 2 = 0.5\n"
          ]
        }
      ],
      "source": [
        "\n",
        "number1 = int(input(\"input the first number : \"))\n",
        "number2 = int(input(\"input the second number : \"))\n",
        "\n",
        "print(\"the numbers you input : (\" ,number1,\",\",number2, \")\")\n",
        "\n",
        "print(number1 , \"+\" , number2, \"=\", number1 + number2)\n",
        "print(number1 , \"-\" , number2, \"=\", number1 - number2)\n",
        "print(number1 , \"x\" , number2, \"=\", number1 * number2)\n",
        "print(number1 , \"/\" , number2, \"=\", number1 / number2)"
      ]
    }
  ]
}